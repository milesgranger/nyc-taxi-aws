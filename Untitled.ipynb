{
 "cells": [
  {
   "cell_type": "code",
   "execution_count": 1,
   "metadata": {},
   "outputs": [
    {
     "data": {
      "text/html": [
       "<table style=\"border: 2px solid white;\">\n",
       "<tr>\n",
       "<td style=\"vertical-align: top; border: 0px solid white\">\n",
       "<h3>Client</h3>\n",
       "<ul>\n",
       "  <li><b>Scheduler: </b>tcp://0.0.0.0:8786\n",
       "  <li><b>Dashboard: </b><a href='http://0.0.0.0:8787' target='_blank'>http://0.0.0.0:8787</a>\n",
       "</ul>\n",
       "</td>\n",
       "<td style=\"vertical-align: top; border: 0px solid white\">\n",
       "<h3>Cluster</h3>\n",
       "<ul>\n",
       "  <li><b>Workers: </b>4</li>\n",
       "  <li><b>Cores: </b>8</li>\n",
       "  <li><b>Memory: </b>20.20 GB</li>\n",
       "</ul>\n",
       "</td>\n",
       "</tr>\n",
       "</table>"
      ],
      "text/plain": [
       "<Client: scheduler='tcp://0.0.0.0:8786' processes=4 cores=8>"
      ]
     },
     "execution_count": 1,
     "metadata": {},
     "output_type": "execute_result"
    }
   ],
   "source": [
    "%matplotlib inline\n",
    "%config Completer.use_jedi = False\n",
    "\n",
    "from distributed import Client\n",
    "from dask import delayed\n",
    "import dask.bag as db\n",
    "import dask.dataframe as dd\n",
    "\n",
    "client = Client('0.0.0.0:8786')\n",
    "client"
   ]
  },
  {
   "cell_type": "code",
   "execution_count": 2,
   "metadata": {},
   "outputs": [
    {
     "data": {
      "text/html": [
       "<table style=\"border: 2px solid white;\">\n",
       "<tr>\n",
       "<td style=\"vertical-align: top; border: 0px solid white\">\n",
       "<h3>Client</h3>\n",
       "<ul>\n",
       "  <li><b>Scheduler: </b>tcp://0.0.0.0:8786\n",
       "  <li><b>Dashboard: </b><a href='http://0.0.0.0:8787' target='_blank'>http://0.0.0.0:8787</a>\n",
       "</ul>\n",
       "</td>\n",
       "<td style=\"vertical-align: top; border: 0px solid white\">\n",
       "<h3>Cluster</h3>\n",
       "<ul>\n",
       "  <li><b>Workers: </b>4</li>\n",
       "  <li><b>Cores: </b>8</li>\n",
       "  <li><b>Memory: </b>20.20 GB</li>\n",
       "</ul>\n",
       "</td>\n",
       "</tr>\n",
       "</table>"
      ],
      "text/plain": [
       "<Client: scheduler='tcp://0.0.0.0:8786' processes=4 cores=8>"
      ]
     },
     "execution_count": 2,
     "metadata": {},
     "output_type": "execute_result"
    }
   ],
   "source": [
    "from s3fs import S3FileSystem\n",
    "fs = S3FileSystem(anon=False)\n",
    "client.restart()"
   ]
  },
  {
   "cell_type": "code",
   "execution_count": 3,
   "metadata": {},
   "outputs": [
    {
     "data": {
      "text/plain": [
       "['commoncrawl/crawl-data/CC-MAIN-2014-49/segments/1416400372202.67/wet/CC-MAIN-20141119123252-00001-ip-10-235-23-156.ec2.internal.warc.wet.gz',\n",
       " 'commoncrawl/crawl-data/CC-MAIN-2014-49/segments/1416400372202.67/wet/CC-MAIN-20141119123252-00002-ip-10-235-23-156.ec2.internal.warc.wet.gz',\n",
       " 'commoncrawl/crawl-data/CC-MAIN-2014-49/segments/1416400372202.67/wet/CC-MAIN-20141119123252-00003-ip-10-235-23-156.ec2.internal.warc.wet.gz',\n",
       " 'commoncrawl/crawl-data/CC-MAIN-2014-49/segments/1416400372202.67/wet/CC-MAIN-20141119123252-00005-ip-10-235-23-156.ec2.internal.warc.wet.gz',\n",
       " 'commoncrawl/crawl-data/CC-MAIN-2014-49/segments/1416400372202.67/wet/CC-MAIN-20141119123252-00006-ip-10-235-23-156.ec2.internal.warc.wet.gz',\n",
       " 'commoncrawl/crawl-data/CC-MAIN-2014-49/segments/1416400372202.67/wet/CC-MAIN-20141119123252-00010-ip-10-235-23-156.ec2.internal.warc.wet.gz',\n",
       " 'commoncrawl/crawl-data/CC-MAIN-2014-49/segments/1416400372202.67/wet/CC-MAIN-20141119123252-00012-ip-10-235-23-156.ec2.internal.warc.wet.gz',\n",
       " 'commoncrawl/crawl-data/CC-MAIN-2014-49/segments/1416400372202.67/wet/CC-MAIN-20141119123252-00013-ip-10-235-23-156.ec2.internal.warc.wet.gz',\n",
       " 'commoncrawl/crawl-data/CC-MAIN-2014-49/segments/1416400372202.67/wet/CC-MAIN-20141119123252-00014-ip-10-235-23-156.ec2.internal.warc.wet.gz',\n",
       " 'commoncrawl/crawl-data/CC-MAIN-2014-49/segments/1416400372202.67/wet/CC-MAIN-20141119123252-00015-ip-10-235-23-156.ec2.internal.warc.wet.gz']"
      ]
     },
     "execution_count": 3,
     "metadata": {},
     "output_type": "execute_result"
    }
   ],
   "source": [
    "fs.ls('commoncrawl/crawl-data/CC-MAIN-2014-49/segments/1416400372202.67/wet')[:10]"
   ]
  },
  {
   "cell_type": "code",
   "execution_count": 7,
   "metadata": {},
   "outputs": [
    {
     "data": {
      "text/plain": [
       "()"
      ]
     },
     "execution_count": 7,
     "metadata": {},
     "output_type": "execute_result"
    }
   ],
   "source": [
    "from warcio.archiveiterator import ArchiveIterator\n",
    "import requests\n",
    "\n",
    "def load_from_filename(filename):\n",
    "    \n",
    "    resp = requests.get('https://s3.amazonaws.com/' + filename)\n",
    "    \n",
    "    for record in ArchiveIterator(resp.raw):\n",
    "        if record.rec_type == 'response':\n",
    "            return {'record': record.http_headers}\n",
    "\n",
    "\n",
    "bag = db.from_sequence(['commoncrawl/crawl-data/CC-MAIN-2014-49/segments/1416400372202.67/wet/CC-MAIN-20141119123252-00006-ip-10-235-23-156.ec2.internal.warc.wet.gz']).map(load_from_filename)\n",
    "bag = bag.repartition(1000)\n",
    "bag.take(1)"
   ]
  },
  {
   "cell_type": "code",
   "execution_count": 6,
   "metadata": {},
   "outputs": [
    {
     "data": {
      "text/html": [
       "<table style=\"border: 2px solid white;\">\n",
       "<tr>\n",
       "<td style=\"vertical-align: top; border: 0px solid white\">\n",
       "<h3>Client</h3>\n",
       "<ul>\n",
       "  <li><b>Scheduler: </b>tcp://0.0.0.0:8786\n",
       "  <li><b>Dashboard: </b><a href='http://0.0.0.0:8787' target='_blank'>http://0.0.0.0:8787</a>\n",
       "</ul>\n",
       "</td>\n",
       "<td style=\"vertical-align: top; border: 0px solid white\">\n",
       "<h3>Cluster</h3>\n",
       "<ul>\n",
       "  <li><b>Workers: </b>4</li>\n",
       "  <li><b>Cores: </b>8</li>\n",
       "  <li><b>Memory: </b>20.20 GB</li>\n",
       "</ul>\n",
       "</td>\n",
       "</tr>\n",
       "</table>"
      ],
      "text/plain": [
       "<Client: scheduler='tcp://0.0.0.0:8786' processes=4 cores=8>"
      ]
     },
     "execution_count": 6,
     "metadata": {},
     "output_type": "execute_result"
    }
   ],
   "source": [
    "client.restart()"
   ]
  },
  {
   "cell_type": "code",
   "execution_count": 5,
   "metadata": {},
   "outputs": [
    {
     "ename": "TypeError",
     "evalue": "Delayed objects of unspecified length are not iterable",
     "output_type": "error",
     "traceback": [
      "\u001b[0;31m---------------------------------------------------------------------------\u001b[0m",
      "\u001b[0;31mTypeError\u001b[0m                                 Traceback (most recent call last)",
      "\u001b[0;32m<ipython-input-5-8edd1ab1ffb9>\u001b[0m in \u001b[0;36m<module>\u001b[0;34m()\u001b[0m\n\u001b[1;32m     27\u001b[0m \u001b[0;34m\u001b[0m\u001b[0m\n\u001b[1;32m     28\u001b[0m \u001b[0;34m\u001b[0m\u001b[0m\n\u001b[0;32m---> 29\u001b[0;31m \u001b[0mrecords\u001b[0m \u001b[0;34m=\u001b[0m \u001b[0;34m[\u001b[0m\u001b[0mmake_record\u001b[0m\u001b[0;34m(\u001b[0m\u001b[0mrecord\u001b[0m\u001b[0;34m)\u001b[0m \u001b[0;32mfor\u001b[0m \u001b[0mrecord\u001b[0m \u001b[0;32min\u001b[0m \u001b[0mload\u001b[0m\u001b[0;34m(\u001b[0m\u001b[0murl\u001b[0m\u001b[0;34m)\u001b[0m\u001b[0;34m]\u001b[0m\u001b[0;34m\u001b[0m\u001b[0m\n\u001b[0m\u001b[1;32m     30\u001b[0m \u001b[0mcounts\u001b[0m \u001b[0;34m=\u001b[0m \u001b[0;34m[\u001b[0m\u001b[0mcount_word\u001b[0m\u001b[0;34m(\u001b[0m\u001b[0mrecord\u001b[0m\u001b[0;34m)\u001b[0m \u001b[0;32mfor\u001b[0m \u001b[0mrecord\u001b[0m \u001b[0;32min\u001b[0m \u001b[0mrecords\u001b[0m\u001b[0;34m]\u001b[0m\u001b[0;34m\u001b[0m\u001b[0m\n\u001b[1;32m     31\u001b[0m \u001b[0mcounts\u001b[0m\u001b[0;34m\u001b[0m\u001b[0m\n",
      "\u001b[0;32m<ipython-input-5-8edd1ab1ffb9>\u001b[0m in \u001b[0;36m<listcomp>\u001b[0;34m(.0)\u001b[0m\n\u001b[1;32m     27\u001b[0m \u001b[0;34m\u001b[0m\u001b[0m\n\u001b[1;32m     28\u001b[0m \u001b[0;34m\u001b[0m\u001b[0m\n\u001b[0;32m---> 29\u001b[0;31m \u001b[0mrecords\u001b[0m \u001b[0;34m=\u001b[0m \u001b[0;34m[\u001b[0m\u001b[0mmake_record\u001b[0m\u001b[0;34m(\u001b[0m\u001b[0mrecord\u001b[0m\u001b[0;34m)\u001b[0m \u001b[0;32mfor\u001b[0m \u001b[0mrecord\u001b[0m \u001b[0;32min\u001b[0m \u001b[0mload\u001b[0m\u001b[0;34m(\u001b[0m\u001b[0murl\u001b[0m\u001b[0;34m)\u001b[0m\u001b[0;34m]\u001b[0m\u001b[0;34m\u001b[0m\u001b[0m\n\u001b[0m\u001b[1;32m     30\u001b[0m \u001b[0mcounts\u001b[0m \u001b[0;34m=\u001b[0m \u001b[0;34m[\u001b[0m\u001b[0mcount_word\u001b[0m\u001b[0;34m(\u001b[0m\u001b[0mrecord\u001b[0m\u001b[0;34m)\u001b[0m \u001b[0;32mfor\u001b[0m \u001b[0mrecord\u001b[0m \u001b[0;32min\u001b[0m \u001b[0mrecords\u001b[0m\u001b[0;34m]\u001b[0m\u001b[0;34m\u001b[0m\u001b[0m\n\u001b[1;32m     31\u001b[0m \u001b[0mcounts\u001b[0m\u001b[0;34m\u001b[0m\u001b[0m\n",
      "\u001b[0;32m/home/milesg/anaconda/lib/python3.5/site-packages/dask/delayed.py\u001b[0m in \u001b[0;36m__iter__\u001b[0;34m(self)\u001b[0m\n\u001b[1;32m    393\u001b[0m     \u001b[0;32mdef\u001b[0m \u001b[0m__iter__\u001b[0m\u001b[0;34m(\u001b[0m\u001b[0mself\u001b[0m\u001b[0;34m)\u001b[0m\u001b[0;34m:\u001b[0m\u001b[0;34m\u001b[0m\u001b[0m\n\u001b[1;32m    394\u001b[0m         \u001b[0;32mif\u001b[0m \u001b[0mgetattr\u001b[0m\u001b[0;34m(\u001b[0m\u001b[0mself\u001b[0m\u001b[0;34m,\u001b[0m \u001b[0;34m'_length'\u001b[0m\u001b[0;34m,\u001b[0m \u001b[0;32mNone\u001b[0m\u001b[0;34m)\u001b[0m \u001b[0;32mis\u001b[0m \u001b[0;32mNone\u001b[0m\u001b[0;34m:\u001b[0m\u001b[0;34m\u001b[0m\u001b[0m\n\u001b[0;32m--> 395\u001b[0;31m             raise TypeError(\"Delayed objects of unspecified length are \"\n\u001b[0m\u001b[1;32m    396\u001b[0m                             \"not iterable\")\n\u001b[1;32m    397\u001b[0m         \u001b[0;32mfor\u001b[0m \u001b[0mi\u001b[0m \u001b[0;32min\u001b[0m \u001b[0mrange\u001b[0m\u001b[0;34m(\u001b[0m\u001b[0mself\u001b[0m\u001b[0;34m.\u001b[0m\u001b[0m_length\u001b[0m\u001b[0;34m)\u001b[0m\u001b[0;34m:\u001b[0m\u001b[0;34m\u001b[0m\u001b[0m\n",
      "\u001b[0;31mTypeError\u001b[0m: Delayed objects of unspecified length are not iterable"
     ]
    }
   ],
   "source": [
    " url = 'https://s3.amazonaws.com/commoncrawl/crawl-data/CC-MAIN-2014-49/segments/1416400372202.67/warc/CC-MAIN-20141119123252-00002-ip-10-235-23-156.ec2.internal.warc.gz'\n",
    "    \n",
    "\n",
    "#resp = requests.get(url)\n",
    "#raw = BytesIO(resp.content)\n",
    "#f = gzip.GzipFile(fileobj=raw)\n",
    "\n",
    "@delayed\n",
    "def load(_url):\n",
    "    records = []\n",
    "    with open('data.warc.wet.gz', 'rb') as f:\n",
    "        for record in ArchiveIterator(f):\n",
    "            if record.rec_type == 'response':\n",
    "                records.append(record)\n",
    "    return records\n",
    "                \n",
    "@delayed\n",
    "def make_record(rec):\n",
    "    \n",
    "    return {'content': rec.content_stream().read()}\n",
    "\n",
    "\n",
    "@delayed\n",
    "def count_word(rec):\n",
    "    return rec['content'].count('data')\n",
    "\n",
    "\n",
    "\n",
    "records = [make_record(record) for record in load(url)]\n",
    "counts = [count_word(record) for record in records]\n",
    "counts\n"
   ]
  },
  {
   "cell_type": "code",
   "execution_count": 24,
   "metadata": {},
   "outputs": [
    {
     "data": {
      "text/plain": [
       "b'<?xml version=\"1.0\" encoding=\"UTF-8\"?>\\n<Error><Code>AllAccessDisabled</Code><Message>All access to this object has been disabled</Message><RequestId>52410F9DC7CBDBBA</RequestId><HostId>OY8ruwh4saPv2QW4B7qYYfXqEr7UBjdN+upAh+xNJsWVmrGbMkhl7tytE7yDhaGABLI4cY7WvVA=</HostId></Error>'"
      ]
     },
     "execution_count": 24,
     "metadata": {},
     "output_type": "execute_result"
    }
   ],
   "source": [
    "import requests\n",
    "\n",
    "resp = requests.get('https://s3.amazonaws.com/crawl-data/CC-MAIN-2014-49/segments/1416400372202.67/warc/CC-MAIN-20141119123252-00005-ip-10-235-23-156.ec2.internal.warc.gz')\n",
    "resp.content"
   ]
  },
  {
   "cell_type": "code",
   "execution_count": 23,
   "metadata": {},
   "outputs": [
    {
     "data": {
      "text/plain": [
       "b'<?xml version=\"1.0\" encoding=\"UTF-8\"?>\\n<Error><Code>AllAccessDisabled</Code><Message>All access to this object has been disabled</Message><RequestId>71EA54100AE0F1F2</RequestId><HostId>RGV5Ew4JTLJdbj+OI+GTmIgtcLpHpMUfPmnGG2cOT8qp4T796ZKi0k9oim91JJfLQkfCM6jbBMk=</HostId></Error>'"
      ]
     },
     "execution_count": 23,
     "metadata": {},
     "output_type": "execute_result"
    }
   ],
   "source": []
  },
  {
   "cell_type": "code",
   "execution_count": null,
   "metadata": {
    "collapsed": true
   },
   "outputs": [],
   "source": []
  }
 ],
 "metadata": {
  "kernelspec": {
   "display_name": "Python 3",
   "language": "python",
   "name": "python3"
  },
  "language_info": {
   "codemirror_mode": {
    "name": "ipython",
    "version": 3
   },
   "file_extension": ".py",
   "mimetype": "text/x-python",
   "name": "python",
   "nbconvert_exporter": "python",
   "pygments_lexer": "ipython3",
   "version": "3.5.2"
  }
 },
 "nbformat": 4,
 "nbformat_minor": 2
}
