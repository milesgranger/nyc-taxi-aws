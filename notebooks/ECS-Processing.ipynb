{
 "cells": [
  {
   "cell_type": "code",
   "execution_count": 1,
   "metadata": {},
   "outputs": [
    {
     "data": {
      "text/html": [
       "<table style=\"border: 2px solid white;\">\n",
       "<tr>\n",
       "<td style=\"vertical-align: top; border: 0px solid white\">\n",
       "<h3>Client</h3>\n",
       "<ul>\n",
       "  <li><b>Scheduler: </b>tcp://ec2-34-200-221-251.compute-1.amazonaws.com:8786\n",
       "  <li><b>Dashboard: </b><a href='http://ec2-34-200-221-251.compute-1.amazonaws.com:8787' target='_blank'>http://ec2-34-200-221-251.compute-1.amazonaws.com:8787</a>\n",
       "</ul>\n",
       "</td>\n",
       "<td style=\"vertical-align: top; border: 0px solid white\">\n",
       "<h3>Cluster</h3>\n",
       "<ul>\n",
       "  <li><b>Workers: </b>16</li>\n",
       "  <li><b>Cores: </b>64</li>\n",
       "  <li><b>Memory: </b>269.26 GB</li>\n",
       "</ul>\n",
       "</td>\n",
       "</tr>\n",
       "</table>"
      ],
      "text/plain": [
       "<Client: scheduler='tcp://ec2-34-200-221-251.compute-1.amazonaws.com:8786' processes=16 cores=64>"
      ]
     },
     "execution_count": 1,
     "metadata": {},
     "output_type": "execute_result"
    }
   ],
   "source": [
    "import requests\n",
    "import io\n",
    "import os\n",
    "from queue import Queue\n",
    "import dask.dataframe as dd\n",
    "import pandas as pd\n",
    "import numpy as np\n",
    "from dask import delayed\n",
    "from distributed import Client\n",
    "from distributed import progress, wait\n",
    "\n",
    "client = Client('tcp://ec2-34-200-221-251.compute-1.amazonaws.com:8786')\n",
    "client.restart()\n",
    "\n",
    "client"
   ]
  },
  {
   "cell_type": "code",
   "execution_count": 2,
   "metadata": {},
   "outputs": [],
   "source": [
    "def clean_df(df) -> pd.DataFrame:\n",
    "    \"\"\"\n",
    "    Clean the dataframe to have self.columns\n",
    "\n",
    "    Parameters\n",
    "    ----------\n",
    "    df: dataframe coming in from load_from_url() method\n",
    "\n",
    "    Returns\n",
    "    -------\n",
    "    pd.DataFrame: cleaned to only have self.columns\n",
    "    \"\"\"\n",
    "\n",
    "    columns = [\n",
    "        'pickup_datetime',\n",
    "        'dropoff_datetime',\n",
    "        'tip_amount',\n",
    "        'fare_amount',\n",
    "        'total_amount',\n",
    "        'vendor_id',\n",
    "        'passenger_count',\n",
    "        'trip_distance',\n",
    "        'payment_type',\n",
    "        'tolls_amount',\n",
    "    ]\n",
    "    \n",
    "    df.columns = [col.lower() for col in df.columns]\n",
    "    df = df.rename(columns={'vendor_name': 'vendor_id',\n",
    "                            'total_amt': 'total_amount',\n",
    "                            'tolls_amt': 'tolls_amount',\n",
    "                            'fare_amt': 'fare_amount',\n",
    "                            'tip_amt': 'tip_amount',\n",
    "                            'trip_pickup_datetime': 'pickup_datetime',\n",
    "                            'trip_dropoff_datetime': 'dropoff_datetime'\n",
    "                           })\n",
    "    df.columns = map(lambda col: \n",
    "                     col.replace('_', '').replace('tpep', ''),\n",
    "                     df.columns\n",
    "                    )\n",
    "    df = df.rename(columns={col.replace('_', ''): col for col in columns})\n",
    "    return df.loc[:, columns]\n",
    "\n",
    "import s3fs\n",
    "import glob\n",
    "fs = s3fs.S3FileSystem()\n",
    "files = [f for f in fs.ls('nyc-tlc/trip data/') if '2016' in f and 'yellow' in f]"
   ]
  },
  {
   "cell_type": "code",
   "execution_count": 3,
   "metadata": {},
   "outputs": [
    {
     "name": "stdout",
     "output_type": "stream",
     "text": [
      "Year: 2017 - Total 1204768604"
     ]
    }
   ],
   "source": [
    "import sys\n",
    "counts = []\n",
    "\n",
    "# Loop through years 2009-2017\n",
    "for year in np.arange(2009, 2018):\n",
    "    \n",
    "    # Get only files pertaining to this year\n",
    "    files = [f for f in fs.ls('nyc-tlc/trip data/') if str(year) in f and 'yellow' in f]\n",
    "    \n",
    "    # Process files in parallel. (client is asynchronous)\n",
    "    for i, file in enumerate(files):\n",
    "        \n",
    "        # Extract year and month from filename\n",
    "        _year, month = file[-11:-4].split('-')\n",
    "        \n",
    "        # Process data for current year and month\n",
    "        df = dd.read_csv('s3://' + file, \n",
    "                         dtype='object',\n",
    "                         error_bad_lines=False,\n",
    "                         blocksize=int(128e6))\n",
    "        df = df.map_partitions(clean_df)\n",
    "        df = client.persist(df)\n",
    "        \n",
    "        # Yearly dataframe merging\n",
    "        main_df = df if not i else main_df.append(df)\n",
    "    \n",
    "    # Write year's df to S3\n",
    "    main_df.to_csv('s3://milesg-taxi-data-east/yellow-{year}-*.csv.gz'.format(year=year), compression='gzip')\n",
    "    counts.append(main_df.passenger_count.count().compute())\n",
    "    sys.stdout.write('\\rYear: {} - Total {}'.format(_year, sum(counts)))\n",
    "    \n",
    "    # Clear from cluster memory\n",
    "    client.cancel(main_df)\n"
   ]
  },
  {
   "cell_type": "code",
   "execution_count": 4,
   "metadata": {},
   "outputs": [
    {
     "data": {
      "text/html": [
       "<table style=\"border: 2px solid white;\">\n",
       "<tr>\n",
       "<td style=\"vertical-align: top; border: 0px solid white\">\n",
       "<h3>Client</h3>\n",
       "<ul>\n",
       "  <li><b>Scheduler: </b>tcp://ec2-34-200-221-251.compute-1.amazonaws.com:8786\n",
       "  <li><b>Dashboard: </b><a href='http://ec2-34-200-221-251.compute-1.amazonaws.com:8787' target='_blank'>http://ec2-34-200-221-251.compute-1.amazonaws.com:8787</a>\n",
       "</ul>\n",
       "</td>\n",
       "<td style=\"vertical-align: top; border: 0px solid white\">\n",
       "<h3>Cluster</h3>\n",
       "<ul>\n",
       "  <li><b>Workers: </b>16</li>\n",
       "  <li><b>Cores: </b>64</li>\n",
       "  <li><b>Memory: </b>269.26 GB</li>\n",
       "</ul>\n",
       "</td>\n",
       "</tr>\n",
       "</table>"
      ],
      "text/plain": [
       "<Client: scheduler='tcp://ec2-34-200-221-251.compute-1.amazonaws.com:8786' processes=16 cores=64>"
      ]
     },
     "execution_count": 4,
     "metadata": {},
     "output_type": "execute_result"
    }
   ],
   "source": [
    "client.restart()"
   ]
  },
  {
   "cell_type": "code",
   "execution_count": 5,
   "metadata": {},
   "outputs": [],
   "source": [
    "client.shutdown()"
   ]
  }
 ],
 "metadata": {
  "kernelspec": {
   "display_name": "NYC Taxi AWS - Python 3.5",
   "language": "python",
   "name": "nyc-taxi-aws"
  },
  "language_info": {
   "codemirror_mode": {
    "name": "ipython",
    "version": 3
   },
   "file_extension": ".py",
   "mimetype": "text/x-python",
   "name": "python",
   "nbconvert_exporter": "python",
   "pygments_lexer": "ipython3",
   "version": "3.6.2"
  }
 },
 "nbformat": 4,
 "nbformat_minor": 2
}
