{
 "cells": [
  {
   "cell_type": "code",
   "execution_count": 1,
   "metadata": {},
   "outputs": [
    {
     "name": "stderr",
     "output_type": "stream",
     "text": [
      "/opt/anaconda/lib/python2.7/site-packages/ipykernel_launcher.py:1: UserWarning: Config option `use_jedi` not recognized by `IPCompleter`.\n",
      "  \"\"\"Entry point for launching an IPython kernel.\n"
     ]
    },
    {
     "data": {
      "text/html": [
       "<table style=\"border: 2px solid white;\">\n",
       "<tr>\n",
       "<td style=\"vertical-align: top; border: 0px solid white\">\n",
       "<h3>Client</h3>\n",
       "<ul>\n",
       "  <li><b>Scheduler: </b>tcp://ec2-54-209-249-152.compute-1.amazonaws.com:8786\n",
       "  <li><b>Dashboard: </b><a href='http://ec2-54-209-249-152.compute-1.amazonaws.com:8787' target='_blank'>http://ec2-54-209-249-152.compute-1.amazonaws.com:8787</a>\n",
       "</ul>\n",
       "</td>\n",
       "<td style=\"vertical-align: top; border: 0px solid white\">\n",
       "<h3>Cluster</h3>\n",
       "<ul>\n",
       "  <li><b>Workers: </b>2</li>\n",
       "  <li><b>Cores: </b>8</li>\n",
       "  <li><b>Memory: </b>18.93 GB</li>\n",
       "</ul>\n",
       "</td>\n",
       "</tr>\n",
       "</table>"
      ],
      "text/plain": [
       "<Client: scheduler='tcp://ec2-54-209-249-152.compute-1.amazonaws.com:8786' processes=2 cores=8>"
      ]
     },
     "execution_count": 1,
     "metadata": {},
     "output_type": "execute_result"
    }
   ],
   "source": [
    "%config IPCompleter.use_jedi = False\n",
    "import sys\n",
    "import s3fs\n",
    "import requests\n",
    "import bs4\n",
    "import pandas as pd\n",
    "import numpy as np\n",
    "from warcio.archiveiterator import ArchiveIterator\n",
    "\n",
    "from distributed.diagnostics import progress\n",
    "from distributed.client import Client\n",
    "from distributed import worker_client\n",
    "from dask import delayed\n",
    "import dask.bag as db\n",
    "\n",
    "\n",
    "client = Client('tcp://ec2-54-209-249-152.compute-1.amazonaws.com:8786')\n",
    "client.restart()"
   ]
  },
  {
   "cell_type": "code",
   "execution_count": 2,
   "metadata": {},
   "outputs": [
    {
     "name": "stdout",
     "output_type": "stream",
     "text": [
      "Requirement already up-to-date: requests in /opt/anaconda/lib/python2.7/site-packages\n",
      "Requirement already up-to-date: urllib3<1.23,>=1.21.1 in /opt/anaconda/lib/python2.7/site-packages (from requests)\n",
      "Requirement already up-to-date: idna<2.7,>=2.5 in /opt/anaconda/lib/python2.7/site-packages (from requests)\n",
      "Requirement already up-to-date: chardet<3.1.0,>=3.0.2 in /opt/anaconda/lib/python2.7/site-packages (from requests)\n",
      "Requirement already up-to-date: certifi>=2017.4.17 in /opt/anaconda/lib/python2.7/site-packages (from requests)\n",
      "\u001b[33mYou are using pip version 8.1.2, however version 9.0.1 is available.\n",
      "You should consider upgrading via the 'pip install --upgrade pip' command.\u001b[0m\n"
     ]
    }
   ],
   "source": [
    "!pip install --upgrade requests"
   ]
  },
  {
   "cell_type": "code",
   "execution_count": 3,
   "metadata": {
    "collapsed": true
   },
   "outputs": [],
   "source": [
    "fs = s3fs.S3FileSystem(anon=True)"
   ]
  },
  {
   "cell_type": "code",
   "execution_count": 4,
   "metadata": {},
   "outputs": [
    {
     "data": {
      "text/plain": [
       "['commoncrawl/hive_analysis_$folder$',\n",
       " 'commoncrawl/meanpath_$folder$',\n",
       " 'commoncrawl/nutch_$folder$',\n",
       " 'commoncrawl/robots.txt',\n",
       " 'commoncrawl/2012',\n",
       " 'commoncrawl/blekko',\n",
       " 'commoncrawl/cc-index',\n",
       " 'commoncrawl/contrib',\n",
       " 'commoncrawl/crawl-001',\n",
       " 'commoncrawl/crawl-002',\n",
       " 'commoncrawl/crawl-analysis',\n",
       " 'commoncrawl/crawl-data',\n",
       " 'commoncrawl/finnougric-urls',\n",
       " 'commoncrawl/hive_analysis',\n",
       " 'commoncrawl/index2012',\n",
       " 'commoncrawl/mapred-temp',\n",
       " 'commoncrawl/meanpath',\n",
       " 'commoncrawl/parse-output-test',\n",
       " 'commoncrawl/parse-output',\n",
       " 'commoncrawl/projects',\n",
       " 'commoncrawl/stats-output',\n",
       " 'commoncrawl/wikipedia']"
      ]
     },
     "execution_count": 4,
     "metadata": {},
     "output_type": "execute_result"
    }
   ],
   "source": [
    "fs.ls('commoncrawl')"
   ]
  },
  {
   "cell_type": "code",
   "execution_count": 6,
   "metadata": {
    "scrolled": true
   },
   "outputs": [
    {
     "data": {
      "text/plain": [
       "['commoncrawl/crawl-data/CC-MAIN-2013-20/segments/1368696381249/warc/CC-MAIN-20130516092621-00000-ip-10-60-113-184.ec2.internal.warc.gz',\n",
       " 'commoncrawl/crawl-data/CC-MAIN-2013-20/segments/1368696381249/warc/CC-MAIN-20130516092621-00001-ip-10-60-113-184.ec2.internal.warc.gz',\n",
       " 'commoncrawl/crawl-data/CC-MAIN-2013-20/segments/1368696381249/warc/CC-MAIN-20130516092621-00002-ip-10-60-113-184.ec2.internal.warc.gz',\n",
       " 'commoncrawl/crawl-data/CC-MAIN-2013-20/segments/1368696381249/warc/CC-MAIN-20130516092621-00003-ip-10-60-113-184.ec2.internal.warc.gz',\n",
       " 'commoncrawl/crawl-data/CC-MAIN-2013-20/segments/1368696381249/warc/CC-MAIN-20130516092621-00004-ip-10-60-113-184.ec2.internal.warc.gz',\n",
       " 'commoncrawl/crawl-data/CC-MAIN-2013-20/segments/1368696381249/warc/CC-MAIN-20130516092621-00005-ip-10-60-113-184.ec2.internal.warc.gz',\n",
       " 'commoncrawl/crawl-data/CC-MAIN-2013-20/segments/1368696381249/warc/CC-MAIN-20130516092621-00006-ip-10-60-113-184.ec2.internal.warc.gz',\n",
       " 'commoncrawl/crawl-data/CC-MAIN-2013-20/segments/1368696381249/warc/CC-MAIN-20130516092621-00007-ip-10-60-113-184.ec2.internal.warc.gz',\n",
       " 'commoncrawl/crawl-data/CC-MAIN-2013-20/segments/1368696381249/warc/CC-MAIN-20130516092621-00008-ip-10-60-113-184.ec2.internal.warc.gz',\n",
       " 'commoncrawl/crawl-data/CC-MAIN-2013-20/segments/1368696381249/warc/CC-MAIN-20130516092621-00009-ip-10-60-113-184.ec2.internal.warc.gz']"
      ]
     },
     "execution_count": 6,
     "metadata": {},
     "output_type": "execute_result"
    }
   ],
   "source": [
    "fs.ls('commoncrawl/crawl-data/CC-MAIN-2013-20/segments/1368696381249/warc')[:10]"
   ]
  },
  {
   "cell_type": "code",
   "execution_count": 5,
   "metadata": {
    "collapsed": true
   },
   "outputs": [],
   "source": [
    "import time\n",
    "import random\n",
    "\n",
    "def add(n):\n",
    "    time.sleep(random.random())\n",
    "    return n + 1\n",
    "\n",
    "def subtract(n):\n",
    "    time.sleep(random.random())\n",
    "    return n-1\n",
    "\n",
    "results = []\n",
    "\n",
    "for i in range(2000):\n",
    "    result = delayed(add)(i)\n",
    "    result = delayed(subtract)(result)\n",
    "    results.append(result)\n",
    "    \n"
   ]
  },
  {
   "cell_type": "code",
   "execution_count": 7,
   "metadata": {},
   "outputs": [],
   "source": [
    "client.cancel(results)"
   ]
  },
  {
   "cell_type": "code",
   "execution_count": 2,
   "metadata": {},
   "outputs": [],
   "source": [
    "def data_yielder(url):\n",
    "    \n",
    "    limit = 5000\n",
    "    count = 0\n",
    "    \n",
    "    response = requests.get(url, stream=True)\n",
    "        \n",
    "    for i, record in enumerate(ArchiveIterator(response.raw)):\n",
    "\n",
    "        if (record.rec_type == 'response' \n",
    "            and 'text/html' in record.http_headers.get_header('Content-Type', '')\n",
    "            ):\n",
    "            rec_headers = dict(record.rec_headers.headers)\n",
    "            http_headers = dict(record.http_headers.headers)\n",
    "            content = record.content_stream().read()\n",
    "\n",
    "            yield {'rec_headers': rec_headers, \n",
    "                   'http_headers':http_headers,\n",
    "                   'content': content}\n",
    "            count += 1\n",
    "            if count >= limit: break\n",
    "            sys.stdout.write('\\rCount: {}'.format(count))\n",
    "            \n",
    "def count_in_string(content, word):\n",
    "    return content.lower().count(word.lower())    \n",
    "\n",
    "def word_counter(url, word):\n",
    "    count = 0\n",
    "    for response_content in data_yielder(url):\n",
    "        count += count_in_string(response_content['content'], word)\n",
    "    return count\n",
    "        \n",
    "        "
   ]
  },
  {
   "cell_type": "code",
   "execution_count": 3,
   "metadata": {},
   "outputs": [],
   "source": [
    "urls = [\n",
    "    'commoncrawl/crawl-data/CC-MAIN-2013-20/segments/1368696381249/warc/CC-MAIN-20130516092621-00000-ip-10-60-113-184.ec2.internal.warc.gz',\n",
    "    'commoncrawl/crawl-data/CC-MAIN-2013-20/segments/1368696381249/warc/CC-MAIN-20130516092621-00001-ip-10-60-113-184.ec2.internal.warc.gz',\n",
    "    'commoncrawl/crawl-data/CC-MAIN-2013-20/segments/1368696381249/warc/CC-MAIN-20130516092621-00002-ip-10-60-113-184.ec2.internal.warc.gz',\n",
    "    'commoncrawl/crawl-data/CC-MAIN-2013-20/segments/1368696381249/warc/CC-MAIN-20130516092621-00003-ip-10-60-113-184.ec2.internal.warc.gz',\n",
    "    'commoncrawl/crawl-data/CC-MAIN-2013-20/segments/1368696381249/warc/CC-MAIN-20130516092621-00004-ip-10-60-113-184.ec2.internal.warc.gz',\n",
    "    'commoncrawl/crawl-data/CC-MAIN-2013-20/segments/1368696381249/warc/CC-MAIN-20130516092621-00005-ip-10-60-113-184.ec2.internal.warc.gz',\n",
    "    'commoncrawl/crawl-data/CC-MAIN-2013-20/segments/1368696381249/warc/CC-MAIN-20130516092621-00006-ip-10-60-113-184.ec2.internal.warc.gz',\n",
    "    'commoncrawl/crawl-data/CC-MAIN-2013-20/segments/1368696381249/warc/CC-MAIN-20130516092621-00007-ip-10-60-113-184.ec2.internal.warc.gz',\n",
    "    'commoncrawl/crawl-data/CC-MAIN-2013-20/segments/1368696381249/warc/CC-MAIN-20130516092621-00008-ip-10-60-113-184.ec2.internal.warc.gz',\n",
    "    'commoncrawl/crawl-data/CC-MAIN-2013-20/segments/1368696381249/warc/CC-MAIN-20130516092621-00009-ip-10-60-113-184.ec2.internal.warc.gz'\n",
    "       ]\n",
    "urls = ['http://s3.amazonaws.com/' + url for url in urls]\n",
    "\n",
    "count = 0\n",
    "for url in urls:\n",
    "    count += delayed(word_counter)(url=url, word='big data')"
   ]
  },
  {
   "cell_type": "code",
   "execution_count": 4,
   "metadata": {},
   "outputs": [
    {
     "name": "stdout",
     "output_type": "stream",
     "text": [
      "CPU times: user 100 ms, sys: 24 ms, total: 124 ms\n",
      "Wall time: 1min 6s\n"
     ]
    }
   ],
   "source": [
    "%%time\n",
    "result = client.compute(count)\n",
    "result.result()"
   ]
  },
  {
   "cell_type": "code",
   "execution_count": 6,
   "metadata": {},
   "outputs": [
    {
     "data": {
      "text/plain": [
       "1329331"
      ]
     },
     "execution_count": 6,
     "metadata": {},
     "output_type": "execute_result"
    }
   ],
   "source": [
    "result.result()"
   ]
  },
  {
   "cell_type": "code",
   "execution_count": 164,
   "metadata": {
    "collapsed": true
   },
   "outputs": [],
   "source": [
    "import bs4\n",
    "\n",
    "def beautiful_soupify(data):\n",
    "    import bs4\n",
    "    html_content = data['content']\n",
    "    soup = bs4.BeautifulSoup(html_content, 'html5lib')\n",
    "    return soup.text\n",
    "\n",
    "def count_word(html, word_phrase):\n",
    "    return html.lower().count(word_phrase)"
   ]
  },
  {
   "cell_type": "code",
   "execution_count": 165,
   "metadata": {
    "collapsed": true
   },
   "outputs": [],
   "source": [
    "job = bag.map(beautiful_soupify)\n",
    "job = job.map(count_word, word_phrase='big data')\n",
    "job = job.sum()"
   ]
  },
  {
   "cell_type": "code",
   "execution_count": 166,
   "metadata": {},
   "outputs": [
    {
     "data": {
      "text/plain": [
       "174"
      ]
     },
     "execution_count": 166,
     "metadata": {},
     "output_type": "execute_result"
    }
   ],
   "source": [
    "job.compute()"
   ]
  },
  {
   "cell_type": "code",
   "execution_count": 144,
   "metadata": {
    "collapsed": true
   },
   "outputs": [],
   "source": [
    "html = bag.take(1)[0]['content']"
   ]
  },
  {
   "cell_type": "code",
   "execution_count": 146,
   "metadata": {},
   "outputs": [
    {
     "data": {
      "text/plain": [
       "8"
      ]
     },
     "execution_count": 146,
     "metadata": {},
     "output_type": "execute_result"
    }
   ],
   "source": [
    "html.count('meta')"
   ]
  },
  {
   "cell_type": "code",
   "execution_count": null,
   "metadata": {
    "collapsed": true
   },
   "outputs": [],
   "source": []
  },
  {
   "cell_type": "code",
   "execution_count": 162,
   "metadata": {},
   "outputs": [
    {
     "data": {
      "text/html": [
       "<table style=\"border: 2px solid white;\">\n",
       "<tr>\n",
       "<td style=\"vertical-align: top; border: 0px solid white\">\n",
       "<h3>Client</h3>\n",
       "<ul>\n",
       "  <li><b>Scheduler: </b>tcp://scheduler:8786\n",
       "  <li><b>Dashboard: </b><a href='http://scheduler:8787' target='_blank'>http://scheduler:8787</a>\n",
       "</ul>\n",
       "</td>\n",
       "<td style=\"vertical-align: top; border: 0px solid white\">\n",
       "<h3>Cluster</h3>\n",
       "<ul>\n",
       "  <li><b>Workers: </b>4</li>\n",
       "  <li><b>Cores: </b>8</li>\n",
       "  <li><b>Memory: </b>12.00 GB</li>\n",
       "</ul>\n",
       "</td>\n",
       "</tr>\n",
       "</table>"
      ],
      "text/plain": [
       "<Client: scheduler='tcp://scheduler:8786' processes=4 cores=8>"
      ]
     },
     "execution_count": 162,
     "metadata": {},
     "output_type": "execute_result"
    }
   ],
   "source": [
    "client.restart()"
   ]
  },
  {
   "cell_type": "code",
   "execution_count": null,
   "metadata": {
    "collapsed": true
   },
   "outputs": [],
   "source": []
  }
 ],
 "metadata": {
  "kernelspec": {
   "display_name": "Python 2",
   "language": "python",
   "name": "python2"
  },
  "language_info": {
   "codemirror_mode": {
    "name": "ipython",
    "version": 2
   },
   "file_extension": ".py",
   "mimetype": "text/x-python",
   "name": "python",
   "nbconvert_exporter": "python",
   "pygments_lexer": "ipython2",
   "version": "2.7.12"
  }
 },
 "nbformat": 4,
 "nbformat_minor": 2
}
