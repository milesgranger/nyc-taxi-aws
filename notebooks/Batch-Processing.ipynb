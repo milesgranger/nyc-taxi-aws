{
 "cells": [
  {
   "cell_type": "markdown",
   "metadata": {},
   "source": [
    "## Use Boto3 to submit files for processing to existing job queue"
   ]
  },
  {
   "cell_type": "code",
   "execution_count": 8,
   "metadata": {},
   "outputs": [
    {
     "name": "stdout",
     "output_type": "stream",
     "text": [
      "File count 102\n"
     ]
    },
    {
     "data": {
      "text/plain": [
       "['s3://nyc-tlc/trip data/yellow_tripdata_2009-01.csv',\n",
       " 's3://nyc-tlc/trip data/yellow_tripdata_2009-02.csv',\n",
       " 's3://nyc-tlc/trip data/yellow_tripdata_2009-03.csv',\n",
       " 's3://nyc-tlc/trip data/yellow_tripdata_2009-04.csv',\n",
       " 's3://nyc-tlc/trip data/yellow_tripdata_2009-05.csv']"
      ]
     },
     "execution_count": 8,
     "metadata": {},
     "output_type": "execute_result"
    }
   ],
   "source": [
    "import boto3\n",
    "import s3fs\n",
    "from concurrent.futures import ThreadPoolExecutor, as_completed\n",
    "\n",
    "client = boto3.client('batch', region_name='eu-west-1')\n",
    "fs = s3fs.S3FileSystem()\n",
    "\n",
    "files = ['s3://' + file for file in fs.ls('nyc-tlc/trip data') if 'yellow' in file]\n",
    "print('File count', len(files))\n",
    "files = files[:5]\n",
    "files"
   ]
  },
  {
   "cell_type": "markdown",
   "metadata": {},
   "source": [
    "## Ensure Queue exists"
   ]
  },
  {
   "cell_type": "code",
   "execution_count": 7,
   "metadata": {},
   "outputs": [
    {
     "data": {
      "text/plain": [
       "{'ResponseMetadata': {'HTTPHeaders': {'connection': 'keep-alive',\n",
       "   'content-length': '353',\n",
       "   'content-type': 'application/json',\n",
       "   'date': 'Wed, 06 Dec 2017 07:38:08 GMT',\n",
       "   'via': '1.1 dd638904a9a9c873c81d978c8e71b733.cloudfront.net (CloudFront)',\n",
       "   'x-amz-cf-id': 'qwnZG63c0pUe14oKMcaOs5x3Uqkf0JsvIsRoRYWfJwlHzVEU-b87mQ==',\n",
       "   'x-amzn-requestid': '672bf32c-da58-11e7-b2a1-8d56f89b9d67',\n",
       "   'x-amzn-trace-id': 'sampled=0;root=1-5a279e60-b4479471bb8d7816d1aa2f2a',\n",
       "   'x-cache': 'Miss from cloudfront'},\n",
       "  'HTTPStatusCode': 200,\n",
       "  'RequestId': '672bf32c-da58-11e7-b2a1-8d56f89b9d67',\n",
       "  'RetryAttempts': 0},\n",
       " 'jobQueues': [{'computeEnvironmentOrder': [{'computeEnvironment': 'arn:aws:batch:eu-west-1:755632011865:compute-environment/Tax-Cleaner-Env',\n",
       "     'order': 1}],\n",
       "   'jobQueueArn': 'arn:aws:batch:eu-west-1:755632011865:job-queue/Taxi-Cleaner-Queue',\n",
       "   'jobQueueName': 'Taxi-Cleaner-Queue',\n",
       "   'priority': 1,\n",
       "   'state': 'ENABLED',\n",
       "   'status': 'VALID',\n",
       "   'statusReason': 'JobQueue Healthy'}]}"
      ]
     },
     "execution_count": 7,
     "metadata": {},
     "output_type": "execute_result"
    }
   ],
   "source": [
    "client.describe_job_queues(jobQueues=['Taxi-Cleaner-Queue'])"
   ]
  },
  {
   "cell_type": "code",
   "execution_count": 9,
   "metadata": {},
   "outputs": [
    {
     "name": "stdout",
     "output_type": "stream",
     "text": [
      "File: s3://nyc-tlc/trip data/yellow_tripdata_2009-03.csv submitted with 200 response.\n",
      "File: s3://nyc-tlc/trip data/yellow_tripdata_2009-05.csv submitted with 200 response.\n",
      "File: s3://nyc-tlc/trip data/yellow_tripdata_2009-04.csv submitted with 200 response.\n",
      "File: s3://nyc-tlc/trip data/yellow_tripdata_2009-01.csv submitted with 200 response.\n",
      "File: s3://nyc-tlc/trip data/yellow_tripdata_2009-02.csv submitted with 200 response.\n"
     ]
    }
   ],
   "source": [
    "def submit_job(file):\n",
    "    \"\"\"\n",
    "    Given s3://file/location, submit this to the taxi-cleaner queue \n",
    "    \n",
    "    Parameters\n",
    "    ----------\n",
    "    file: string - S3 URI expected to be from 'nyc-tlc/trip data' bucket\n",
    "    \n",
    "    Returns \n",
    "    -------\n",
    "    http dict response from boto3 submit_job() \n",
    "    \"\"\"\n",
    "    # Pluck out year and month of this file\n",
    "    year, month = file[-11:-4].split('-')\n",
    "\n",
    "    # build container command\n",
    "    command = ('python,/workdir/core/batch_service/clean_routine.py,--s3-file,{file},'\n",
    "               '--output-bucket,s3://milesg-taxi-data-east'.format(file=file)).split(',')\n",
    "\n",
    "    # Submit job w/ boto3 client\n",
    "    job = client.submit_job(jobName='TaxiData-{}-{}'.format(year, month),\n",
    "                            jobQueue='Taxi-Cleaner-Queue',\n",
    "                            jobDefinition='Data-Cleaner:1',\n",
    "                            containerOverrides={'command': command},\n",
    "                            retryStrategy={'attempts': 3}\n",
    "                           )\n",
    "    return job\n",
    "\n",
    "\n",
    "# Submit the jobs via threading, don't wait on http responses\n",
    "with ThreadPoolExecutor(max_workers=10) as executor:\n",
    "    \n",
    "    futures = {executor.submit(submit_job, file): file for file in files}\n",
    "    for future in as_completed(futures):\n",
    "        file = futures[future]\n",
    "        if not future.exception():\n",
    "            print('File: {} submitted with {} response.'\n",
    "                  .format(file, future.result().get('ResponseMetadata').get('HTTPStatusCode')))\n",
    "        else:\n",
    "            print('File: {} submitted in error: {}'.format(file, future.exception()))"
   ]
  },
  {
   "cell_type": "code",
   "execution_count": 10,
   "metadata": {},
   "outputs": [
    {
     "data": {
      "text/plain": [
       "{'ResponseMetadata': {'HTTPHeaders': {'connection': 'keep-alive',\n",
       "   'content-length': '77',\n",
       "   'content-type': 'application/json',\n",
       "   'date': 'Wed, 06 Dec 2017 07:41:03 GMT',\n",
       "   'via': '1.1 11a727876922c83c000e3ada668fa181.cloudfront.net (CloudFront)',\n",
       "   'x-amz-cf-id': 'GmryV-EHaIy8QrzwkXp4dgEYZiUBjxMYHA0AcPva0oVVC1ekmokR1g==',\n",
       "   'x-amzn-requestid': 'c96c88c9-da58-11e7-a94d-8da7b7ad37e6',\n",
       "   'x-amzn-trace-id': 'sampled=0;root=1-5a279f04-3cc6dab08fe7b84be74e1147',\n",
       "   'x-cache': 'Miss from cloudfront'},\n",
       "  'HTTPStatusCode': 200,\n",
       "  'RequestId': 'c96c88c9-da58-11e7-a94d-8da7b7ad37e6',\n",
       "  'RetryAttempts': 0},\n",
       " 'jobId': '97c1ecb6-d305-47c2-a0c9-37a89f51731a',\n",
       " 'jobName': 'TaxiData-2009-02'}"
      ]
     },
     "execution_count": 10,
     "metadata": {},
     "output_type": "execute_result"
    }
   ],
   "source": [
    "future.result()"
   ]
  }
 ],
 "metadata": {
  "kernelspec": {
   "display_name": "Python 3.6 - AWS NYC",
   "language": "python",
   "name": "nyc-taxi-aws"
  },
  "language_info": {
   "codemirror_mode": {
    "name": "ipython",
    "version": 3
   },
   "file_extension": ".py",
   "mimetype": "text/x-python",
   "name": "python",
   "nbconvert_exporter": "python",
   "pygments_lexer": "ipython3",
   "version": "3.6.2"
  }
 },
 "nbformat": 4,
 "nbformat_minor": 2
}
