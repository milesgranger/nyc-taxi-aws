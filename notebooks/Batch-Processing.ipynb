{
 "cells": [
  {
   "cell_type": "markdown",
   "metadata": {},
   "source": [
    "## Use Boto3 to submit files for processing to existing job queue"
   ]
  },
  {
   "cell_type": "code",
   "execution_count": 1,
   "metadata": {},
   "outputs": [
    {
     "name": "stdout",
     "output_type": "stream",
     "text": [
      "File count 102\n"
     ]
    },
    {
     "data": {
      "text/plain": [
       "['s3://nyc-tlc/trip data/yellow_tripdata_2009-01.csv',\n",
       " 's3://nyc-tlc/trip data/yellow_tripdata_2009-02.csv',\n",
       " 's3://nyc-tlc/trip data/yellow_tripdata_2009-03.csv',\n",
       " 's3://nyc-tlc/trip data/yellow_tripdata_2009-04.csv',\n",
       " 's3://nyc-tlc/trip data/yellow_tripdata_2009-05.csv']"
      ]
     },
     "execution_count": 1,
     "metadata": {},
     "output_type": "execute_result"
    }
   ],
   "source": [
    "import boto3\n",
    "import s3fs\n",
    "from concurrent.futures import ThreadPoolExecutor, as_completed\n",
    "\n",
    "client = boto3.client('batch')\n",
    "fs = s3fs.S3FileSystem()\n",
    "\n",
    "files = ['s3://' + file for file in fs.ls('nyc-tlc/trip data') if 'yellow' in file]\n",
    "print('File count', len(files))\n",
    "files[:5]"
   ]
  },
  {
   "cell_type": "markdown",
   "metadata": {},
   "source": [
    "## Ensure Queue exists"
   ]
  },
  {
   "cell_type": "code",
   "execution_count": 2,
   "metadata": {},
   "outputs": [
    {
     "data": {
      "text/plain": [
       "{'ResponseMetadata': {'HTTPHeaders': {'connection': 'keep-alive',\n",
       "   'content-length': '369',\n",
       "   'content-type': 'application/json',\n",
       "   'date': 'Sun, 01 Oct 2017 12:19:12 GMT',\n",
       "   'via': '1.1 fae00924177d29b933b8883256846843.cloudfront.net (CloudFront)',\n",
       "   'x-amz-cf-id': 'gwbNPsaTkQywwZncQsoki6mCmFZ7IOh6bGpfNYRP9zo3c2Qv6-Xi1w==',\n",
       "   'x-amzn-requestid': 'bbf779f4-a6a2-11e7-92b7-efaee1e6f4e4',\n",
       "   'x-amzn-trace-id': 'sampled=0;root=1-59d0dd40-5fd965bc788fcc49cb74a9fb',\n",
       "   'x-cache': 'Miss from cloudfront'},\n",
       "  'HTTPStatusCode': 200,\n",
       "  'RequestId': 'bbf779f4-a6a2-11e7-92b7-efaee1e6f4e4',\n",
       "  'RetryAttempts': 0},\n",
       " 'jobQueues': [{'computeEnvironmentOrder': [{'computeEnvironment': 'arn:aws:batch:us-east-1:755632011865:compute-environment/NYC-Taxi-Cleaning-Env',\n",
       "     'order': 1}],\n",
       "   'jobQueueArn': 'arn:aws:batch:us-east-1:755632011865:job-queue/Taxi-Data-Cleaner-Queue',\n",
       "   'jobQueueName': 'Taxi-Data-Cleaner-Queue',\n",
       "   'priority': 1,\n",
       "   'state': 'ENABLED',\n",
       "   'status': 'VALID',\n",
       "   'statusReason': 'JobQueue Healthy'}]}"
      ]
     },
     "execution_count": 2,
     "metadata": {},
     "output_type": "execute_result"
    }
   ],
   "source": [
    "client.describe_job_queues(jobQueues=['Taxi-Data-Cleaner-Queue'])"
   ]
  },
  {
   "cell_type": "code",
   "execution_count": 3,
   "metadata": {},
   "outputs": [
    {
     "name": "stdout",
     "output_type": "stream",
     "text": [
      "File: s3://nyc-tlc/trip data/yellow_tripdata_2009-01.csv submitted with 200 response.\n",
      "File: s3://nyc-tlc/trip data/yellow_tripdata_2009-09.csv submitted with 200 response.\n",
      "File: s3://nyc-tlc/trip data/yellow_tripdata_2009-10.csv submitted with 200 response.\n",
      "File: s3://nyc-tlc/trip data/yellow_tripdata_2009-11.csv submitted with 200 response.\n",
      "File: s3://nyc-tlc/trip data/yellow_tripdata_2009-04.csv submitted with 200 response.\n",
      "File: s3://nyc-tlc/trip data/yellow_tripdata_2009-06.csv submitted with 200 response.\n",
      "File: s3://nyc-tlc/trip data/yellow_tripdata_2010-01.csv submitted with 200 response.\n",
      "File: s3://nyc-tlc/trip data/yellow_tripdata_2009-07.csv submitted with 200 response.\n",
      "File: s3://nyc-tlc/trip data/yellow_tripdata_2009-12.csv submitted with 200 response.\n",
      "File: s3://nyc-tlc/trip data/yellow_tripdata_2009-05.csv submitted with 200 response.\n",
      "File: s3://nyc-tlc/trip data/yellow_tripdata_2009-02.csv submitted with 200 response.\n",
      "File: s3://nyc-tlc/trip data/yellow_tripdata_2009-08.csv submitted with 200 response.\n",
      "File: s3://nyc-tlc/trip data/yellow_tripdata_2010-03.csv submitted with 200 response.\n",
      "File: s3://nyc-tlc/trip data/yellow_tripdata_2009-03.csv submitted with 200 response.\n",
      "File: s3://nyc-tlc/trip data/yellow_tripdata_2010-06.csv submitted with 200 response.\n",
      "File: s3://nyc-tlc/trip data/yellow_tripdata_2010-04.csv submitted with 200 response.\n",
      "File: s3://nyc-tlc/trip data/yellow_tripdata_2010-08.csv submitted with 200 response.\n",
      "File: s3://nyc-tlc/trip data/yellow_tripdata_2010-05.csv submitted with 200 response.\n",
      "File: s3://nyc-tlc/trip data/yellow_tripdata_2010-09.csv submitted with 200 response.\n",
      "File: s3://nyc-tlc/trip data/yellow_tripdata_2010-12.csv submitted with 200 response.\n",
      "File: s3://nyc-tlc/trip data/yellow_tripdata_2010-02.csv submitted with 200 response.\n",
      "File: s3://nyc-tlc/trip data/yellow_tripdata_2010-11.csv submitted with 200 response.\n",
      "File: s3://nyc-tlc/trip data/yellow_tripdata_2011-04.csv submitted with 200 response.\n",
      "File: s3://nyc-tlc/trip data/yellow_tripdata_2010-07.csv submitted with 200 response.\n",
      "File: s3://nyc-tlc/trip data/yellow_tripdata_2010-10.csv submitted with 200 response.\n",
      "File: s3://nyc-tlc/trip data/yellow_tripdata_2011-06.csv submitted with 200 response.\n",
      "File: s3://nyc-tlc/trip data/yellow_tripdata_2011-03.csv submitted with 200 response.\n",
      "File: s3://nyc-tlc/trip data/yellow_tripdata_2011-01.csv submitted with 200 response.\n",
      "File: s3://nyc-tlc/trip data/yellow_tripdata_2011-02.csv submitted with 200 response.\n",
      "File: s3://nyc-tlc/trip data/yellow_tripdata_2011-12.csv submitted with 200 response.\n",
      "File: s3://nyc-tlc/trip data/yellow_tripdata_2012-01.csv submitted with 200 response.\n",
      "File: s3://nyc-tlc/trip data/yellow_tripdata_2011-10.csv submitted with 200 response.\n",
      "File: s3://nyc-tlc/trip data/yellow_tripdata_2011-07.csv submitted with 200 response.\n",
      "File: s3://nyc-tlc/trip data/yellow_tripdata_2011-09.csv submitted with 200 response.\n",
      "File: s3://nyc-tlc/trip data/yellow_tripdata_2011-08.csv submitted with 200 response.\n",
      "File: s3://nyc-tlc/trip data/yellow_tripdata_2011-11.csv submitted with 200 response.\n",
      "File: s3://nyc-tlc/trip data/yellow_tripdata_2011-05.csv submitted with 200 response.\n",
      "File: s3://nyc-tlc/trip data/yellow_tripdata_2012-02.csv submitted with 200 response.\n",
      "File: s3://nyc-tlc/trip data/yellow_tripdata_2012-03.csv submitted with 200 response.\n",
      "File: s3://nyc-tlc/trip data/yellow_tripdata_2012-06.csv submitted with 200 response.\n",
      "File: s3://nyc-tlc/trip data/yellow_tripdata_2012-05.csv submitted with 200 response.\n",
      "File: s3://nyc-tlc/trip data/yellow_tripdata_2012-08.csv submitted with 200 response.\n",
      "File: s3://nyc-tlc/trip data/yellow_tripdata_2012-09.csv submitted with 200 response.\n",
      "File: s3://nyc-tlc/trip data/yellow_tripdata_2012-10.csv submitted with 200 response.\n",
      "File: s3://nyc-tlc/trip data/yellow_tripdata_2012-07.csv submitted with 200 response.\n",
      "File: s3://nyc-tlc/trip data/yellow_tripdata_2013-02.csv submitted with 200 response.\n",
      "File: s3://nyc-tlc/trip data/yellow_tripdata_2012-12.csv submitted with 200 response.\n",
      "File: s3://nyc-tlc/trip data/yellow_tripdata_2013-03.csv submitted with 200 response.\n",
      "File: s3://nyc-tlc/trip data/yellow_tripdata_2013-05.csv submitted with 200 response.\n",
      "File: s3://nyc-tlc/trip data/yellow_tripdata_2012-04.csv submitted with 200 response.\n",
      "File: s3://nyc-tlc/trip data/yellow_tripdata_2013-01.csv submitted with 200 response.\n",
      "File: s3://nyc-tlc/trip data/yellow_tripdata_2013-04.csv submitted with 200 response.\n",
      "File: s3://nyc-tlc/trip data/yellow_tripdata_2013-07.csv submitted with 200 response.\n",
      "File: s3://nyc-tlc/trip data/yellow_tripdata_2012-11.csv submitted with 200 response.\n",
      "File: s3://nyc-tlc/trip data/yellow_tripdata_2013-08.csv submitted with 200 response.\n",
      "File: s3://nyc-tlc/trip data/yellow_tripdata_2013-10.csv submitted with 200 response.\n",
      "File: s3://nyc-tlc/trip data/yellow_tripdata_2013-09.csv submitted with 200 response.\n",
      "File: s3://nyc-tlc/trip data/yellow_tripdata_2013-12.csv submitted with 200 response.\n",
      "File: s3://nyc-tlc/trip data/yellow_tripdata_2014-01.csv submitted with 200 response.\n",
      "File: s3://nyc-tlc/trip data/yellow_tripdata_2014-02.csv submitted with 200 response.\n",
      "File: s3://nyc-tlc/trip data/yellow_tripdata_2013-06.csv submitted with 200 response.\n",
      "File: s3://nyc-tlc/trip data/yellow_tripdata_2014-03.csv submitted with 200 response.\n",
      "File: s3://nyc-tlc/trip data/yellow_tripdata_2014-05.csv submitted with 200 response.\n",
      "File: s3://nyc-tlc/trip data/yellow_tripdata_2014-04.csv submitted with 200 response.\n",
      "File: s3://nyc-tlc/trip data/yellow_tripdata_2013-11.csv submitted with 200 response.\n",
      "File: s3://nyc-tlc/trip data/yellow_tripdata_2014-07.csv submitted with 200 response.\n",
      "File: s3://nyc-tlc/trip data/yellow_tripdata_2014-09.csv submitted with 200 response.\n",
      "File: s3://nyc-tlc/trip data/yellow_tripdata_2014-10.csv submitted with 200 response.\n",
      "File: s3://nyc-tlc/trip data/yellow_tripdata_2014-11.csv submitted with 200 response.\n",
      "File: s3://nyc-tlc/trip data/yellow_tripdata_2014-08.csv submitted with 200 response.\n",
      "File: s3://nyc-tlc/trip data/yellow_tripdata_2014-12.csv submitted with 200 response.\n",
      "File: s3://nyc-tlc/trip data/yellow_tripdata_2015-03.csv submitted with 200 response.\n",
      "File: s3://nyc-tlc/trip data/yellow_tripdata_2015-04.csv submitted with 200 response.\n",
      "File: s3://nyc-tlc/trip data/yellow_tripdata_2015-05.csv submitted with 200 response.\n",
      "File: s3://nyc-tlc/trip data/yellow_tripdata_2014-06.csv submitted with 200 response.\n",
      "File: s3://nyc-tlc/trip data/yellow_tripdata_2015-01.csv submitted with 200 response.\n",
      "File: s3://nyc-tlc/trip data/yellow_tripdata_2015-06.csv submitted with 200 response.\n",
      "File: s3://nyc-tlc/trip data/yellow_tripdata_2015-07.csv submitted with 200 response.\n",
      "File: s3://nyc-tlc/trip data/yellow_tripdata_2015-08.csv submitted with 200 response.\n",
      "File: s3://nyc-tlc/trip data/yellow_tripdata_2015-09.csv submitted with 200 response.\n",
      "File: s3://nyc-tlc/trip data/yellow_tripdata_2015-10.csv submitted with 200 response.\n",
      "File: s3://nyc-tlc/trip data/yellow_tripdata_2015-11.csv submitted with 200 response.\n",
      "File: s3://nyc-tlc/trip data/yellow_tripdata_2016-02.csv submitted with 200 response.\n",
      "File: s3://nyc-tlc/trip data/yellow_tripdata_2016-04.csv submitted with 200 response.\n",
      "File: s3://nyc-tlc/trip data/yellow_tripdata_2016-03.csv submitted with 200 response.\n",
      "File: s3://nyc-tlc/trip data/yellow_tripdata_2015-02.csv submitted with 200 response.\n",
      "File: s3://nyc-tlc/trip data/yellow_tripdata_2016-05.csv submitted with 200 response.\n",
      "File: s3://nyc-tlc/trip data/yellow_tripdata_2016-06.csv submitted with 200 response.\n",
      "File: s3://nyc-tlc/trip data/yellow_tripdata_2016-09.csv submitted with 200 response.\n",
      "File: s3://nyc-tlc/trip data/yellow_tripdata_2015-12.csv submitted with 200 response.\n",
      "File: s3://nyc-tlc/trip data/yellow_tripdata_2016-11.csv submitted with 200 response.\n",
      "File: s3://nyc-tlc/trip data/yellow_tripdata_2017-03.csv submitted with 200 response.\n",
      "File: s3://nyc-tlc/trip data/yellow_tripdata_2017-04.csv submitted with 200 response.\n",
      "File: s3://nyc-tlc/trip data/yellow_tripdata_2017-05.csv submitted with 200 response.\n",
      "File: s3://nyc-tlc/trip data/yellow_tripdata_2017-06.csv submitted with 200 response.\n",
      "File: s3://nyc-tlc/trip data/yellow_tripdata_2016-01.csv submitted with 200 response.\n"
     ]
    },
    {
     "name": "stdout",
     "output_type": "stream",
     "text": [
      "File: s3://nyc-tlc/trip data/yellow_tripdata_2016-07.csv submitted with 200 response.\n",
      "File: s3://nyc-tlc/trip data/yellow_tripdata_2017-01.csv submitted with 200 response.\n",
      "File: s3://nyc-tlc/trip data/yellow_tripdata_2017-02.csv submitted with 200 response.\n",
      "File: s3://nyc-tlc/trip data/yellow_tripdata_2016-08.csv submitted with 200 response.\n",
      "File: s3://nyc-tlc/trip data/yellow_tripdata_2016-12.csv submitted with 200 response.\n",
      "File: s3://nyc-tlc/trip data/yellow_tripdata_2016-10.csv submitted with 200 response.\n"
     ]
    }
   ],
   "source": [
    "def submit_job(file):\n",
    "    \"\"\"\n",
    "    Given s3://file/location, submit this to the taxi-cleaner queue \n",
    "    \n",
    "    Returns: http response from boto3 submit_job() \n",
    "    \"\"\"\n",
    "    # Pluck out year and month of this file\n",
    "    year, month = file[-11:-4].split('-')\n",
    "\n",
    "    # build container command\n",
    "    command = ('python,/workdir/core/batch_service/clean_routine.py,--s3-file,{file},'\n",
    "               '--output-bucket,s3://milesg-taxi-data-east'.format(file=file)).split(',')\n",
    "\n",
    "    # Submit job w/ boto3 client\n",
    "    job = client.submit_job(jobName='TaxiData-{}-{}'.format(year, month),\n",
    "                            jobQueue='Taxi-Data-Cleaner-Queue',\n",
    "                            jobDefinition='Taxi-Data-Cleaner:6',\n",
    "                            containerOverrides={'command': command},\n",
    "                            retryStrategy={'attempts': 3}\n",
    "                           )\n",
    "    return job\n",
    "\n",
    "\n",
    "# Submit the jobs via threading, don't wait on http responses\n",
    "with ThreadPoolExecutor(max_workers=10) as executor:\n",
    "    \n",
    "    futures = {executor.submit(submit_job, file): file for file in files}\n",
    "    for future in as_completed(futures):\n",
    "        file = futures[future]\n",
    "        if not future.exception():\n",
    "            print('File: {} submitted with {} response.'\n",
    "                  .format(file, future.result().get('ResponseMetadata').get('HTTPStatusCode')))\n",
    "        else:\n",
    "            print('File: {} submitted in error: {}'.format(file, future.exception()))"
   ]
  },
  {
   "cell_type": "code",
   "execution_count": 4,
   "metadata": {},
   "outputs": [
    {
     "data": {
      "text/plain": [
       "{'ResponseMetadata': {'HTTPHeaders': {'connection': 'keep-alive',\n",
       "   'content-length': '77',\n",
       "   'content-type': 'application/json',\n",
       "   'date': 'Sun, 01 Oct 2017 10:58:14 GMT',\n",
       "   'via': '1.1 aadee5866bd4cbf7a3aa07ff8ac5a149.cloudfront.net (CloudFront)',\n",
       "   'x-amz-cf-id': 'jMsE61M2mzdIxvFCsrhvXrNZO0TOI-IbG5kF3-bJx7p-3y4SPyoqmw==',\n",
       "   'x-amzn-requestid': '6c170569-a697-11e7-9cc1-3389f704a5ef',\n",
       "   'x-amzn-trace-id': 'sampled=0;root=1-59d0ca46-d8b7c41ba4bc2868a0ba6a37',\n",
       "   'x-cache': 'Miss from cloudfront'},\n",
       "  'HTTPStatusCode': 200,\n",
       "  'RequestId': '6c170569-a697-11e7-9cc1-3389f704a5ef',\n",
       "  'RetryAttempts': 3},\n",
       " 'jobId': '486f3570-17b3-4c40-bdac-71f5c61d1bde',\n",
       " 'jobName': 'TaxiData-2016-09'}"
      ]
     },
     "execution_count": 4,
     "metadata": {},
     "output_type": "execute_result"
    }
   ],
   "source": [
    "future.result()"
   ]
  }
 ],
 "metadata": {
  "kernelspec": {
   "display_name": "NYC Taxi AWS - Python 3.5",
   "language": "python",
   "name": "nyc-taxi-aws"
  },
  "language_info": {
   "codemirror_mode": {
    "name": "ipython",
    "version": 3
   },
   "file_extension": ".py",
   "mimetype": "text/x-python",
   "name": "python",
   "nbconvert_exporter": "python",
   "pygments_lexer": "ipython3",
   "version": "3.6.2"
  }
 },
 "nbformat": 4,
 "nbformat_minor": 2
}
